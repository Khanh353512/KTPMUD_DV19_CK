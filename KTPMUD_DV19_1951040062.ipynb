{
  "nbformat": 4,
  "nbformat_minor": 0,
  "metadata": {
    "colab": {
      "name": "Untitled1.ipynb",
      "provenance": [],
      "collapsed_sections": []
    },
    "kernelspec": {
      "name": "python3",
      "display_name": "Python 3"
    },
    "language_info": {
      "name": "python"
    }
  },
  "cells": [
    {
      "cell_type": "markdown",
      "metadata": {
        "id": "42or2ca2Xx0B"
      },
      "source": [
        "Câu 1: a)"
      ]
    },
    {
      "cell_type": "code",
      "metadata": {
        "colab": {
          "base_uri": "https://localhost:8080/"
        },
        "id": "s446E_M9HdXc",
        "outputId": "76941f32-ca78-4d3d-f1ac-46176bafb742"
      },
      "source": [
        "def KT(arr):\n",
        "    count =0\n",
        "    for i in arr:\n",
        "        if(i<2):\n",
        "            count=count+1\n",
        "        else:\n",
        "            for j in range (2,i-1):\n",
        "                if(i%j==0 and j<i):\n",
        "                    count= count+1\n",
        "                    break\n",
        "    return len(arr)-count\n",
        "a= [3,4,6,7,12]\n",
        "print(KT(a))"
      ],
      "execution_count": 38,
      "outputs": [
        {
          "output_type": "stream",
          "name": "stdout",
          "text": [
            "2\n"
          ]
        }
      ]
    },
    {
      "cell_type": "code",
      "metadata": {
        "colab": {
          "base_uri": "https://localhost:8080/"
        },
        "id": "bgiuBwXCIZt0",
        "outputId": "a27d181b-e86d-48da-bfb0-36353c2fd5c1"
      },
      "source": [
        "n = float(input(\"Moi nhap real_number: \"))\n",
        "m = float(input(\"Moi nhap image_number: \"))\n",
        "class Sothuc :\n",
        "    def __init__(self,real_number) :\n",
        "        self.real_number = real_number\n",
        "    def gttd(self) :\n",
        "        return (self.real_number *2) * 0.5\n",
        "\n",
        "class Sophuc(Sothuc) :\n",
        "    def __init__(self,real_number, image_number) :\n",
        "        super().__init__(real_number)\n",
        "        self.image_number = image_number\n",
        "    def module(self) :\n",
        "        return (self.image_number**2 + self.real_number**2) ** 0.5\n",
        "\n",
        "sothuc = Sothuc(n)\n",
        "print(\"Tri tuyet doi co gia tri la: \",sothuc.gttd())\n",
        "\n",
        "sophuc = Sophuc(n,m)\n",
        "print(\"module cua so phuc la: \",sophuc.module())"
      ],
      "execution_count": 39,
      "outputs": [
        {
          "output_type": "stream",
          "name": "stdout",
          "text": [
            "Moi nhap real_number: 254\n",
            "Moi nhap image_number: 12\n",
            "Tri tuyet doi co gia tri la:  254.0\n",
            "module cua so phuc la:  254.2833065696606\n"
          ]
        }
      ]
    },
    {
      "cell_type": "code",
      "metadata": {
        "id": "bVoyg6iJIZwU"
      },
      "source": [
        ""
      ],
      "execution_count": null,
      "outputs": []
    },
    {
      "cell_type": "code",
      "metadata": {
        "id": "h-Cj-M6EIZyz"
      },
      "source": [
        ""
      ],
      "execution_count": null,
      "outputs": []
    },
    {
      "cell_type": "code",
      "metadata": {
        "id": "NCbA96lEIZ1F"
      },
      "source": [
        ""
      ],
      "execution_count": null,
      "outputs": []
    },
    {
      "cell_type": "code",
      "metadata": {
        "id": "vZbtI-q-IZ5d"
      },
      "source": [
        ""
      ],
      "execution_count": null,
      "outputs": []
    },
    {
      "cell_type": "code",
      "metadata": {
        "id": "LyAr3ukCIZ88"
      },
      "source": [
        ""
      ],
      "execution_count": null,
      "outputs": []
    },
    {
      "cell_type": "code",
      "metadata": {
        "id": "ssy43-OdIZ_v"
      },
      "source": [
        ""
      ],
      "execution_count": null,
      "outputs": []
    },
    {
      "cell_type": "code",
      "metadata": {
        "id": "To_5CuAvIaB1"
      },
      "source": [
        ""
      ],
      "execution_count": null,
      "outputs": []
    },
    {
      "cell_type": "code",
      "metadata": {
        "id": "OBs9aJVfIaD7"
      },
      "source": [
        ""
      ],
      "execution_count": null,
      "outputs": []
    },
    {
      "cell_type": "code",
      "metadata": {
        "id": "zFYHgM-gIaGI"
      },
      "source": [
        ""
      ],
      "execution_count": null,
      "outputs": []
    },
    {
      "cell_type": "code",
      "metadata": {
        "id": "XwJM5nMaIaIm"
      },
      "source": [
        ""
      ],
      "execution_count": null,
      "outputs": []
    }
  ]
}